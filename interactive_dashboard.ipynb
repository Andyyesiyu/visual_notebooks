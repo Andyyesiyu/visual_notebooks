{
 "cells": [
  {
   "cell_type": "code",
   "execution_count": 1,
   "metadata": {},
   "outputs": [],
   "source": [
    "# import our usual things\n",
    "%matplotlib inline\n",
    "import pandas as pd\n",
    "import matplotlib.pyplot as plt\n",
    "import ipywidgets\n",
    "import bqplot\n",
    "import numpy as np\n",
    "import datetime as dt # we'll use this to format our dates all fancy like"
   ]
  },
  {
   "cell_type": "code",
   "execution_count": 2,
   "metadata": {},
   "outputs": [],
   "source": [
    "# read data, parse date and handle null values\n",
    "building = pd.read_csv('../dataset/IL_Building_Inventory.csv',           \n",
    "                       na_values = {'Square Footage': 0,\n",
    "                       'Year Acquired': 0,\n",
    "                       'Year Constructed': 0},\n",
    "                      parse_dates = [\"Year Acquired\", \"Year Constructed\"]) "
   ]
  },
  {
   "cell_type": "code",
   "execution_count": 3,
   "metadata": {},
   "outputs": [],
   "source": [
    "# create agency id to deal with catagorical data\n",
    "agency_dict = {}\n",
    "for ind, i in enumerate(building['Agency Name'].unique()):\n",
    "    agency_dict[i] = ind\n",
    "building['aid'] = list(map(lambda a:agency_dict[a], building['Agency Name']))"
   ]
  },
  {
   "cell_type": "code",
   "execution_count": 4,
   "metadata": {},
   "outputs": [],
   "source": [
    "# drop any null values\n",
    "building = building.dropna(axis=\"rows\", how=\"any\")"
   ]
  },
  {
   "cell_type": "code",
   "execution_count": 5,
   "metadata": {},
   "outputs": [],
   "source": [
    "# edit congress id to start with 0 (easier to match later)\n",
    "building['cid'] = building['Congress Dist']-1"
   ]
  },
  {
   "cell_type": "code",
   "execution_count": 6,
   "metadata": {},
   "outputs": [
    {
     "data": {
      "text/plain": [
       "Index(['Agency Name', 'Location Name', 'Address', 'City', 'Zip code', 'County',\n",
       "       'Congress Dist', 'Congressional Full Name', 'Rep Dist', 'Rep Full Name',\n",
       "       'Senate Dist', 'Senator Full Name', 'Bldg Status', 'Year Acquired',\n",
       "       'Year Constructed', 'Square Footage', 'Total Floors',\n",
       "       'Floors Above Grade', 'Floors Below Grade', 'Usage Description',\n",
       "       'Usage Description 2', 'Usage Description 3', 'aid', 'cid'],\n",
       "      dtype='object')"
      ]
     },
     "execution_count": 6,
     "metadata": {},
     "output_type": "execute_result"
    }
   ],
   "source": [
    "building.columns"
   ]
  },
  {
   "cell_type": "code",
   "execution_count": 7,
   "metadata": {},
   "outputs": [
    {
     "data": {
      "text/plain": [
       "(18, 35)"
      ]
     },
     "execution_count": 7,
     "metadata": {},
     "output_type": "execute_result"
    }
   ],
   "source": [
    "len(building['cid'].unique()),len(building['aid'].unique())"
   ]
  },
  {
   "cell_type": "code",
   "execution_count": 8,
   "metadata": {},
   "outputs": [
    {
     "data": {
      "text/plain": [
       "[1, 2, 3, 4, 5, 6, 7, 8, 9, 10, 11, 12, 13, 14, 15, 16, 17, 18]"
      ]
     },
     "execution_count": 8,
     "metadata": {},
     "output_type": "execute_result"
    }
   ],
   "source": [
    "sorted(building['Congress Dist'].unique())"
   ]
  },
  {
   "cell_type": "code",
   "execution_count": 9,
   "metadata": {},
   "outputs": [
    {
     "data": {
      "text/plain": [
       "[0, 1, 2, 3, 4, 5, 6, 7, 8, 9, 10, 11, 12, 13, 14, 15, 16, 17]"
      ]
     },
     "execution_count": 9,
     "metadata": {},
     "output_type": "execute_result"
    }
   ],
   "source": [
    "sorted(building['cid'].unique())"
   ]
  },
  {
   "cell_type": "code",
   "execution_count": 10,
   "metadata": {},
   "outputs": [
    {
     "data": {
      "text/plain": [
       "Agency Name                                Department of Natural Resources\n",
       "Location Name              Anderson Lake Conservation Area - Fulton County\n",
       "Address                                                 Anderson Lake C.a.\n",
       "City                                                               Astoria\n",
       "Zip code                                                             61501\n",
       "County                                                              Fulton\n",
       "Congress Dist                                                           17\n",
       "Congressional Full Name                                       Cheri Bustos\n",
       "Rep Dist                                                                93\n",
       "Rep Full Name                                            Hammond Norine K.\n",
       "Senate Dist                                                             47\n",
       "Senator Full Name                                                Jil Tracy\n",
       "Bldg Status                                                         In Use\n",
       "Year Acquired                                          2004-01-01 00:00:00\n",
       "Year Constructed                                       2004-01-01 00:00:00\n",
       "Square Footage                                                         144\n",
       "Total Floors                                                             1\n",
       "Floors Above Grade                                                       1\n",
       "Floors Below Grade                                                       0\n",
       "Usage Description                                                  Unusual\n",
       "Usage Description 2                                                Unusual\n",
       "Usage Description 3                                           Not provided\n",
       "aid                                                                      0\n",
       "cid                                                                     16\n",
       "Name: 1, dtype: object"
      ]
     },
     "execution_count": 10,
     "metadata": {},
     "output_type": "execute_result"
    }
   ],
   "source": [
    "building.iloc[1,]"
   ]
  },
  {
   "cell_type": "code",
   "execution_count": 11,
   "metadata": {},
   "outputs": [],
   "source": [
    "import matplotlib.colors as mpl_colors\n",
    "# create his2d arrays to draw heap plot\n",
    "hist2d, con_edges, ag_edges = np.histogram2d(building['cid'], \n",
    "                                               building['aid'], \n",
    "                                               weights=building['Square Footage'],\n",
    "                                            bins = [18,35])"
   ]
  },
  {
   "cell_type": "code",
   "execution_count": 12,
   "metadata": {
    "scrolled": true
   },
   "outputs": [
    {
     "data": {
      "text/plain": [
       "<matplotlib.image.AxesImage at 0x121327390>"
      ]
     },
     "execution_count": 12,
     "metadata": {},
     "output_type": "execute_result"
    },
    {
     "data": {
      "image/png": "[encoded data removed]",
      "text/plain": [
       "<Figure size 432x288 with 1 Axes>"
      ]
     },
     "metadata": {
      "needs_background": "light"
     },
     "output_type": "display_data"
    }
   ],
   "source": [
    "plt.imshow(hist2d, cmap='RdPu', norm = mpl_colors.SymLogNorm(10))"
   ]
  },
  {
   "cell_type": "code",
   "execution_count": 13,
   "metadata": {
    "scrolled": false
   },
   "outputs": [
    {
     "data": {
      "text/plain": [
       "<matplotlib.image.AxesImage at 0x121d2f110>"
      ]
     },
     "execution_count": 13,
     "metadata": {},
     "output_type": "execute_result"
    },
    {
     "data": {
      "image/png": "[encoded data removed]",
      "text/plain": [
       "<Figure size 432x288 with 1 Axes>"
      ]
     },
     "metadata": {
      "needs_background": "light"
     },
     "output_type": "display_data"
    }
   ],
   "source": [
    "plt.imshow(hist2d.T, cmap='RdPu', norm = mpl_colors.SymLogNorm(10))"
   ]
  },
  {
   "cell_type": "code",
   "execution_count": 14,
   "metadata": {},
   "outputs": [
    {
     "data": {
      "text/plain": [
       "((18, 35), (19,), (36,))"
      ]
     },
     "execution_count": 14,
     "metadata": {},
     "output_type": "execute_result"
    }
   ],
   "source": [
    "hist2d.shape, con_edges.shape, ag_edges.shape"
   ]
  },
  {
   "cell_type": "code",
   "execution_count": 15,
   "metadata": {},
   "outputs": [],
   "source": [
    "# use log scale to look better\n",
    "hist2d[hist2d <= 0] = np.nan # set zeros to NaNs\n",
    "hist2d = np.log10(hist2d)"
   ]
  },
  {
   "cell_type": "code",
   "execution_count": 16,
   "metadata": {},
   "outputs": [],
   "source": [
    "con_center = sorted(building['Congress Dist'].unique())\n",
    "aid_center = sorted(building['aid'].unique())"
   ]
  },
  {
   "cell_type": "code",
   "execution_count": 17,
   "metadata": {},
   "outputs": [
    {
     "data": {
      "text/plain": [
       "(18, 35)"
      ]
     },
     "execution_count": 17,
     "metadata": {},
     "output_type": "execute_result"
    }
   ],
   "source": [
    "len(con_center),len(aid_center)"
   ]
  },
  {
   "cell_type": "code",
   "execution_count": 18,
   "metadata": {
    "scrolled": false
   },
   "outputs": [
    {
     "data": {
      "application/vnd.jupyter.widget-view+json": {
       "model_id": "a720cdd94ca24b4fb55f13f607f11264",
       "version_major": 2,
       "version_minor": 0
      },
      "text/plain": [
       "VBox(children=(Label(value=''), Figure(axes=[ColorAxis(orientation='vertical', scale=ColorScale(max=7.16655842…"
      ]
     },
     "metadata": {},
     "output_type": "display_data"
    }
   ],
   "source": [
    "\n",
    "def get_data_value(change):\n",
    "    if len(change['owner'].selected) == 1: #only 1 selected\n",
    "        i,j = change['owner'].selected[0]\n",
    "        v = hist2d[i,j] # grab data value\n",
    "        mySelectedLabel.value = 'Total duration in log(sec) = ' + str(v) + ' '+str(i) +' '+str(j) # set our label\n",
    "\n",
    "# (1) add scales - colors, x & y\n",
    "col_sc = bqplot.ColorScale(scheme=\"RdPu\", \n",
    "                           min=np.nanmin(hist2d), \n",
    "                           max=np.nanmax(hist2d))\n",
    "\n",
    "x_sc = bqplot.LinearScale()\n",
    "y_sc = bqplot.LinearScale()\n",
    "\n",
    "c_ax = bqplot.ColorAxis(scale = col_sc, \n",
    "                        orientation = 'vertical', \n",
    "                        side = 'right')\n",
    "\n",
    "# (2) create axis - for colors, x & y\n",
    "\n",
    "x_ax = bqplot.Axis(scale = x_sc, label='Agency Name')\n",
    "y_ax = bqplot.Axis(scale = y_sc, \n",
    "                   orientation = 'vertical', \n",
    "                   label = 'Congress Dist')\n",
    "# (3) Marks\n",
    "heat_map = bqplot.GridHeatMap(color = hist2d,\n",
    "                              row = con_center, \n",
    "                              column = aid_center,\n",
    "                              scales = {'color': col_sc,\n",
    "                                        'row': y_sc,\n",
    "                                        'column': x_sc},\n",
    "                              interactions = {'click': 'select'},\n",
    "                              anchor_style = {'fill':'blue'}, \n",
    "                              selected_style = {'opacity': 1.0},\n",
    "                              unselected_style = {'opacity': 1.0})\n",
    "\n",
    "# (4) interactivity - none yet\n",
    "mySelectedLabel = ipywidgets.Label()\n",
    "\n",
    "heat_map.observe(get_data_value, 'selected')\n",
    "\n",
    "\n",
    "# (5) put it all together in a figure\n",
    "fig = bqplot.Figure(marks = [heat_map], axes = [c_ax, y_ax, x_ax])\n",
    "myDashboard = ipywidgets.VBox([mySelectedLabel,fig])\n",
    "myDashboard"
   ]
  },
  {
   "cell_type": "code",
   "execution_count": 19,
   "metadata": {},
   "outputs": [
    {
     "data": {
      "application/vnd.jupyter.widget-view+json": {
       "model_id": "ba5924c44f254bb7a0a9ab27862ba804",
       "version_major": 2,
       "version_minor": 0
      },
      "text/plain": [
       "VBox(children=(Label(value=''), HBox(children=(Figure(axes=[ColorAxis(orientation='vertical', scale=ColorScale…"
      ]
     },
     "metadata": {},
     "output_type": "display_data"
    }
   ],
   "source": [
    "# (1) add scales - colors, x & y, use different color scheme\n",
    "col_sc = bqplot.ColorScale(scheme=\"PuOr\",\n",
    "                           min=np.nanmin(hist2d),\n",
    "                           max=np.nanmax(hist2d))\n",
    "\n",
    "x_sc = bqplot.LinearScale()\n",
    "y_sc = bqplot.LinearScale()\n",
    "\n",
    "c_ax = bqplot.ColorAxis(scale=col_sc,\n",
    "                        orientation='vertical',\n",
    "                        side='right')\n",
    "\n",
    "\n",
    "# (2) create axis - for colors, x & y\n",
    "x_ax = bqplot.Axis(scale=x_sc, label='Agency Name')\n",
    "y_ax = bqplot.Axis(scale=y_sc,\n",
    "                   orientation='vertical',\n",
    "                   label='Congress Dist')\n",
    "\n",
    "\n",
    "# (3) Marks in left side\n",
    "heat_map = bqplot.GridHeatMap(color=hist2d,\n",
    "                              row=con_center,\n",
    "                              column=aid_center,\n",
    "                              scales={'color': col_sc,\n",
    "                                      'row': y_sc,\n",
    "                                      'column': x_sc},\n",
    "                              interactions={'click': 'select'},\n",
    "                              anchor_style={'fill': 'blue'},\n",
    "                              selected_style={'opacity': 1.0},\n",
    "                              unselected_style={'opacity': 1.0})\n",
    "\n",
    "# (4) interactivity\n",
    "i, j = 17, 0  # picking an x/y bin -- this is one I know has a lot of data!\n",
    "\n",
    "ca_mask = (building['aid'] == j) & (\n",
    "    building['Congress Dist'] == i)  # create init mask\n",
    "\n",
    "# note: for dates on x-axis and customize date range based on mask\n",
    "x_scl = bqplot.DateScale(min=min(building['Year Constructed'][ca_mask]), max=max(\n",
    "    building['Year Constructed'][ca_mask]))\n",
    "y_scl = bqplot.LogScale()  # log scale to look better\n",
    "\n",
    "ax_xcl = bqplot.Axis(label='Date', scale=x_scl)\n",
    "ax_ycl = bqplot.Axis(label='Square Footage', scale=y_scl,\n",
    "                     orientation='vertical', side='left')\n",
    "\n",
    "# rigiht side line plot x and y, use group by index and values\n",
    "line_year = building[:][ca_mask].groupby('Year Constructed')[\n",
    "    'Square Footage'].sum().index\n",
    "sum_year = building[:][ca_mask].groupby('Year Constructed')[\n",
    "    'Square Footage'].sum()\n",
    "\n",
    "# use small mark to show line plot to deal with few data situation\n",
    "duration_line = bqplot.Lines(x=line_year,\n",
    "                             y=sum_year,\n",
    "                             scales={'x': x_scl, 'y': y_scl}, marker='circle', marker_size=32)\n",
    "\n",
    "# link between left and right\n",
    "def get_data_value(change):\n",
    "    if len(change['owner'].selected) == 1:  # only 1 selected\n",
    "        i, j = change['owner'].selected[0]\n",
    "        v = hist2d[i, j]  # grab data value\n",
    "        ca_mask = (building['aid'] == j) & (building['cid'] == i)\n",
    "        # make sure point exist so no histogram errors!\n",
    "        if len(building['Square Footage'][ca_mask]) > 0:\n",
    "            line_year = building[:][ca_mask].groupby('Year Constructed')[\n",
    "                'Square Footage'].sum().index\n",
    "            sum_year = building[:][ca_mask].groupby('Year Constructed')[\n",
    "                'Square Footage'].sum()\n",
    "            x_scl = bqplot.DateScale(min=min(building['Year Constructed'][ca_mask]), max=max(\n",
    "                building['Year Constructed'][ca_mask]))  # note: for dates on x-axis\n",
    "            y_scl = bqplot.LogScale()\n",
    "\n",
    "            # update data and date scale\n",
    "            duration_line.x = line_year\n",
    "            duration_line.y = sum_year\n",
    "            ax_xcl.scale = x_scl\n",
    "        else:\n",
    "            # use empty data in black cells\n",
    "            duration_line.x = []\n",
    "            duration_line.y = []\n",
    "        # simple strings to debug here\n",
    "        mySelectedLabel.value = 'Total duration in log(sec) = ' + str(v) + ' '+str(\n",
    "            i) + ' '+str(j)+' '+str(len(building['Year Constructed'][ca_mask]))  # set our label\n",
    "\n",
    "\n",
    "mySelectedLabel = ipywidgets.Label()\n",
    "\n",
    "heat_map.observe(get_data_value, 'selected')\n",
    "\n",
    "\n",
    "# (5) create figures\n",
    "fig_heatmap = bqplot.Figure(marks=[heat_map], axes=[c_ax, y_ax, x_ax])\n",
    "fig_dur = bqplot.Figure(marks=[duration_line], axes=[ax_xcl, ax_ycl])\n",
    "\n",
    "# since we know from last time we wanna make our figs a bit bigger:\n",
    "fig_heatmap.layout.min_width = '500px'\n",
    "fig_dur.layout.min_width = '500px'\n",
    "\n",
    "myDashboard = ipywidgets.VBox(\n",
    "    [mySelectedLabel, ipywidgets.HBox([fig_heatmap, fig_dur])])\n",
    "myDashboard"
   ]
  },
  {
   "cell_type": "code",
   "execution_count": 20,
   "metadata": {},
   "outputs": [
    {
     "data": {
      "text/plain": [
       "(6.301210624600238, 6.301210624600238)"
      ]
     },
     "execution_count": 20,
     "metadata": {},
     "output_type": "execute_result"
    }
   ],
   "source": [
    "hist2d[12][6],np.log10(building['Square Footage'][(building['cid']==12) & (building['aid']==6)].sum())"
   ]
  },
  {
   "cell_type": "markdown",
   "metadata": {},
   "source": [
    "## Several considerations"
   ]
  },
  {
   "cell_type": "markdown",
   "metadata": {},
   "source": [
    "Can you keep the x and y ranges static on the line plot?\n"
   ]
  },
  {
   "cell_type": "markdown",
   "metadata": {},
   "source": [
    "I think technically we can do that, but in this dataset, the date values differ a lot, so I prefer to optimize range based on the data after masking so I manually update it above."
   ]
  },
  {
   "cell_type": "markdown",
   "metadata": {},
   "source": [
    "Can you change the style?"
   ]
  },
  {
   "cell_type": "markdown",
   "metadata": {},
   "source": [
    "Yes, but as the Github issue page, the bqplot does not support all the ColorBrewer schmes. Only below can fully support:\n",
    "[\n",
    "\"Paired\", \"Set3\", \"Pastel1\", \"Set1\",\n",
    "\"Greys\", \"Greens\", \"Reds\", \"Purples\", \"Oranges\", \"Blues\",\n",
    "\"YlOrRd\", \"YlOrBr\", \"YlGnBu\", \"YlGn\", \"RdPu\",\n",
    "\"PuRd\", \"PuBuGn\", \"PuBu\", \"OrRd\", \"GnBu\", \"BuPu\",\n",
    "\"BuGn\", \"BrBG\", \"PiYG\", \"PRGn\", \"PuOr\", \"RdBu\", \"RdGy\",\n",
    "\"RdYlBu\", \"RdYlGn\", \"Spectral\"\n",
    "]"
   ]
  }
 ],
 "metadata": {
  "kernelspec": {
   "display_name": "Python 3",
   "language": "python",
   "name": "python3"
  },
  "language_info": {
   "codemirror_mode": {
    "name": "ipython",
    "version": 3
   },
   "file_extension": ".py",
   "mimetype": "text/x-python",
   "name": "python",
   "nbconvert_exporter": "python",
   "pygments_lexer": "ipython3",
   "version": "3.7.6"
  }
 },
 "nbformat": 4,
 "nbformat_minor": 2
}