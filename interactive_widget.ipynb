{
 "cells": [
  {
   "cell_type": "markdown",
   "metadata": {},
   "source": [
    "# Homework 4"
   ]
  },
  {
   "cell_type": "markdown",
   "metadata": {},
   "source": [
    "Team mate with Linyao Li"
   ]
  },
  {
   "cell_type": "code",
   "execution_count": 1,
   "metadata": {},
   "outputs": [],
   "source": [
    "%matplotlib inline\n",
    "import matplotlib.pyplot as plt\n",
    "import numpy as np\n",
    "import ipywidgets"
   ]
  },
  {
   "cell_type": "code",
   "execution_count": 2,
   "metadata": {},
   "outputs": [],
   "source": [
    "import pandas as pd\n",
    "\n",
    "ufos = pd.read_csv(\"../dataset/ufo-scrubbed-geocoded-time-standardized-00.csv\",\n",
    "                  names = [\"date\", \"city\", \"state\", \"country\",\n",
    "                          \"shape\", \"duration_seconds\", \"duration\",\n",
    "                          \"comment\", \"report_date\", \"latitude\", \"longitude\"],\n",
    "                  parse_dates = [\"date\", \"report_date\"])\n",
    "\n",
    "# you might get a memory warning thing, its just not deprecated correctly\n",
    "#  try not to panic :D"
   ]
  },
  {
   "cell_type": "code",
   "execution_count": 25,
   "metadata": {},
   "outputs": [],
   "source": [
    "ufos['Year'] = ufos['date'].apply(lambda x: \"%d\" % (x.year))\n",
    "ufos['Report_Year'] = ufos['report_date'].apply(lambda x: \"%d\" % (x.year))"
   ]
  },
  {
   "cell_type": "code",
   "execution_count": 3,
   "metadata": {},
   "outputs": [],
   "source": [
    "ufos = ufos.fillna({'country':'unknown', 'state': 'unknown', 'shape':'unknown'})"
   ]
  },
  {
   "cell_type": "code",
   "execution_count": 21,
   "metadata": {},
   "outputs": [
    {
     "data": {
      "text/plain": [
       "array([47562, 67765, 19937, ...,  4219, 25288,  4751])"
      ]
     },
     "execution_count": 21,
     "metadata": {},
     "output_type": "execute_result"
    }
   ],
   "source": [
    "nsamples = 2000\n",
    "downSampleMask = np.random.choice(range(len(ufos)-1), nsamples, replace=False)\n",
    "downSampleMask # take a look"
   ]
  },
  {
   "cell_type": "code",
   "execution_count": 26,
   "metadata": {},
   "outputs": [],
   "source": [
    "ufosDS = ufos.loc[downSampleMask]"
   ]
  },
  {
   "cell_type": "code",
   "execution_count": 7,
   "metadata": {},
   "outputs": [],
   "source": [
    "import matplotlib.colors as mpl_colors\n",
    "from IPython.display import display, clear_output\n",
    "%config InlineBackend.close_figures=False "
   ]
  },
  {
   "cell_type": "code",
   "execution_count": 9,
   "metadata": {},
   "outputs": [
    {
     "data": {
      "text/plain": [
       "(5000, 11)"
      ]
     },
     "execution_count": 9,
     "metadata": {},
     "output_type": "execute_result"
    }
   ],
   "source": [
    "ufosDS.shape"
   ]
  },
  {
   "cell_type": "code",
   "execution_count": null,
   "metadata": {},
   "outputs": [],
   "source": [
    "col_names"
   ]
  },
  {
   "cell_type": "code",
   "execution_count": 41,
   "metadata": {
    "scrolled": false
   },
   "outputs": [
    {
     "data": {
      "application/vnd.jupyter.widget-view+json": {
       "model_id": "35cb2cd98d4546c09fcfeaaa7591f01b",
       "version_major": 2,
       "version_minor": 0
      },
      "text/plain": [
       "HBox(children=(Output(), VBox(children=(Dropdown(index=6, options=('Year', 'state', 'country', 'shape', 'durat…"
      ]
     },
     "metadata": {},
     "output_type": "display_data"
    }
   ],
   "source": [
    "plt.ioff()\n",
    "plt.close('all')  # if you get a \"too many figures open\" warning\n",
    "# fig = plt.figure(figsize=(8,8))\n",
    "# add axes by hand like last week\n",
    "# order here is: left, bottom, width, height\n",
    "\n",
    "fig, ax = plt.subplots(figsize=(8, 8))\n",
    "\n",
    "ufosDS.hist(column='latitude', ax=ax, bins=10)\n",
    "\n",
    "out = ipywidgets.Output()  # NEW WIDGET CALL\n",
    "\n",
    "irange = ipywidgets.IntSlider(min=5, max=25, step=1, value=10)\n",
    "\n",
    "col_names = [\n",
    "    'Year',\n",
    "    'state',\n",
    "    'country',\n",
    "    'shape',\n",
    "    'duration_seconds',\n",
    "    'Report_Year',\n",
    "    'latitude',\n",
    "    'longitude']\n",
    "dropdown = ipywidgets.Dropdown(\n",
    "    options=col_names, index=col_names.index('latitude'))\n",
    "\n",
    "controls = ipywidgets.VBox([dropdown, irange])\n",
    "controls.layout.top = '200px'  # UPDATED\n",
    "hbox = ipywidgets.HBox([out, controls])\n",
    "\n",
    "display(hbox)\n",
    "\n",
    "\n",
    "def show_plt(col):  # Reuse Plot Function\n",
    "    for a in fig.axes:\n",
    "        fig.delaxes(a)\n",
    "        ax = fig.add_axes([0.0, 0.15, 1.0, 0.8])\n",
    "    if ufos[col].dtype != 'O':  # numberical\n",
    "        ufosDS.hist(column=col, ax=ax, bins=irange.value)\n",
    "    else:  # catagorical\n",
    "        ufosDS[col].value_counts().plot(kind='bar', ax=ax)\n",
    "        controls = ipywidgets.VBox([dropdown])\n",
    "    if col in ['shape', 'country']:\n",
    "        plt.xticks(rotation=30)\n",
    "\n",
    "\n",
    "def updateBin(change):\n",
    "    if change is not None:\n",
    "        col = col_names[dropdown.index]\n",
    "        show_plt(col)\n",
    "    with out:\n",
    "        clear_output(wait=True)\n",
    "        display(fig)\n",
    "\n",
    "\n",
    "def updateContent(change):\n",
    "    if change is not None and change['name'] == 'value':\n",
    "        col = col_names[change['owner'].index]\n",
    "        show_plt(col)\n",
    "    with out:\n",
    "        clear_output(wait=True)\n",
    "        display(fig)\n",
    "\n",
    "\n",
    "irange.observe(updateBin)\n",
    "dropdown.observe(updateContent, names='value')\n",
    "updateBin(None)\n",
    "updateContent(None)"
   ]
  },
  {
   "cell_type": "markdown",
   "metadata": {},
   "source": [
    "Because it is a histogram, so pick a certain column is enough, the hist function will help users aggregate value based on the number of values. For numerical data, the hist function is enough, but for categorical column, we should do some aggregation manually. With the value_counts function, we can calculate the count easily. Here are explanations for the column values I chose and the inner logic in visualization."
   ]
  },
  {
   "cell_type": "markdown",
   "metadata": {},
   "source": [
    "1. I delete the city and comment fields because there are too much diverse values which makes it hard to show in a histogram. The duration data field is strange in description so I also delete it."
   ]
  },
  {
   "cell_type": "markdown",
   "metadata": {},
   "source": [
    "2. I Edited two date fields in year range and aggregate based on each year to reduce the cluster number."
   ]
  },
  {
   "cell_type": "markdown",
   "metadata": {},
   "source": [
    "3. Only allow edit bin number for numerical data because merging any categorical data would cause confusion."
   ]
  },
  {
   "cell_type": "markdown",
   "metadata": {},
   "source": [
    "4. Reuse plot function to reduce repeat codes."
   ]
  },
  {
   "cell_type": "code",
   "execution_count": 40,
   "metadata": {},
   "outputs": [
    {
     "data": {
      "application/vnd.jupyter.widget-view+json": {
       "model_id": "70de3cb3622449f6ba6553114a4bd39a",
       "version_major": 2,
       "version_minor": 0
      },
      "text/plain": [
       "HBox(children=(Output(outputs=({'output_type': 'display_data', 'data': {'text/plain': '<Figure size 576x576 wi…"
      ]
     },
     "metadata": {},
     "output_type": "display_data"
    }
   ],
   "source": [
    "%config InlineBackend.close_figures=False\n",
    "plt.ioff()\n",
    "plt.close('all') # if you get a \"too many figures open\" warning\n",
    "fig = plt.figure(figsize=(12,10))\n",
    "# add axes by hand like last week\n",
    "# order here is: left, bottom, width, height\n",
    "ax = fig.add_axes([0.0, 0.15, 1.0, 0.8])\n",
    "image = ax.scatter(ufosDS['longitude'],ufosDS['latitude'],c=np.log10(ufosDS['duration_seconds']))\n",
    "\n",
    "dropdown_x = ipywidgets.Dropdown(options=list(ufosDS.columns),index=list(ufosDS.columns).index('longitude'))\n",
    "dropdown_y = ipywidgets.Dropdown(options=list(ufosDS.columns),index=list(ufosDS.columns).index('latitude'))\n",
    "dropdown_color = ipywidgets.Dropdown(options=plt.colormaps())\n",
    "\n",
    "x_select = ipywidgets.Box([ipywidgets.Label(value = 'x:'),dropdown_x])\n",
    "y_select = ipywidgets.Box([ipywidgets.Label(value = 'y:'),dropdown_y])\n",
    "color_select = ipywidgets.Box([ipywidgets.Label(value = 'c:'),dropdown_color])\n",
    "\n",
    "controls = ipywidgets.VBox([x_select, y_select,color_select])\n",
    "controls.layout.top = '200px'\n",
    "hbox=ipywidgets.HBox([out, controls])\n",
    "display(hbox)\n",
    "\n",
    "# change the x and y fields\n",
    "def updateColumns(change):\n",
    "    if change is not None:\n",
    "        # grab names of columns from other widget\n",
    "        x = list(ufosDS.columns)[dropdown_x.index]\n",
    "        y = list(ufosDS.columns)[dropdown_y.index]\n",
    "        cmap = plt.colormaps()[dropdown_color.index]\n",
    "        for a in fig.axes:\n",
    "            fig.delaxes(a)       \n",
    "        ax = fig.add_axes([0.0, 0.15, 1.0, 0.8]) \n",
    "        # use the log of the duration in seconds as the color scaling\n",
    "        image = ax.scatter(ufosDS[x],ufosDS[y],c=np.log10(ufosDS['duration_seconds']),cmap = cmap)\n",
    "        # modify some charts that cannot be fully displayed\n",
    "        if x == 'shape' or x=='state':\n",
    "            plt.xticks(rotation=30)            \n",
    "    with out:\n",
    "        clear_output(wait=True)\n",
    "        display(fig)\n",
    "\n",
    "# change color map\n",
    "def updateColors(change):\n",
    "    if change is not None:\n",
    "        # grab name of color maps from other widget\n",
    "        cmap=plt.colormaps()[change['owner'].index]\n",
    "        for a in fig.axes:\n",
    "            fig.delaxes(a)\n",
    "        ax = fig.add_axes([0.0, 0.15, 1.0, 0.8])\n",
    "        # use the log of the duration in seconds as the color scaling\n",
    "        image = ax.scatter(ufosDS[dropdown_x.value],ufosDS[dropdown_y.value],c=np.log10(ufosDS['duration_seconds']),cmap = cmap)\n",
    "        # modify some charts that cannot be fully displayed\n",
    "        if dropdown_x.value == 'shape' or dropdown_x.value=='state':\n",
    "            plt.xticks(rotation=30)            \n",
    "    with out:\n",
    "        clear_output(wait=True)\n",
    "        display(fig)     \n",
    "\n",
    "dropdown_x.observe(updateColumns)\n",
    "dropdown_y.observe(updateColumns)\n",
    "dropdown_color.observe(updateColors)\n",
    "updateColumns(None)\n",
    "updateColors(None)"
   ]
  },
  {
   "cell_type": "markdown",
   "metadata": {},
   "source": [
    "<font size = 3>The visualization above allows user to choose the x-axis and y-axis of the scatter plot, but not all of the columns in the UFO dataset can be chosen. I removed three categorical variables —— city, comment, duration —— from both of the dropdown_x and dropdown_y. The specific reasons are much same as above, here is some explains from Linyao: <br>\n",
    "(1) City: There are 19900 unique cities in the dataset. The quantity is so large that it will cause the axis label overlaps so that they cannot be shown well on the chart.<br>\n",
    "(2) Comment: Almost every record has a unique comment, which not only makes it difficult to arrange charts, but also causes the scatter plot to be meaningless.<br>\n",
    "(3) Duration: This variable seems to be a numerical variable. However, in this dataset, it is described in natural language with different forms and different scales such as '3 minutes or less', 'approx. 35 mins', and '1-2 hrs' , which makes it categorical. There are 8349 unique durations in the dataset. Therefore, it is also a large number that makes it hard to draw a clear chart, but things will be different if we can convert this variable to numerical variable under uniform measures.<font>"
   ]
  }
 ],
 "metadata": {
  "kernelspec": {
   "display_name": "Python 3",
   "language": "python",
   "name": "python3"
  },
  "language_info": {
   "codemirror_mode": {
    "name": "ipython",
    "version": 3
   },
   "file_extension": ".py",
   "mimetype": "text/x-python",
   "name": "python",
   "nbconvert_exporter": "python",
   "pygments_lexer": "ipython3",
   "version": "3.7.4"
  }
 },
 "nbformat": 4,
 "nbformat_minor": 2
}